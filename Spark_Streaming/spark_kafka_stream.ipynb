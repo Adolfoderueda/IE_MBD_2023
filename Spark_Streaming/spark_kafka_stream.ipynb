{
 "cells": [
  {
   "cell_type": "code",
   "execution_count": 1,
   "id": "47a88747",
   "metadata": {
    "collapsed": true
   },
   "outputs": [
    {
     "name": "stderr",
     "output_type": "stream",
     "text": [
      "WARNING: An illegal reflective access operation has occurred\n",
      "WARNING: Illegal reflective access by org.apache.spark.unsafe.Platform (file:/opt/spark3/jars/spark-unsafe_2.12-3.2.3.jar) to constructor java.nio.DirectByteBuffer(long,int)\n",
      "WARNING: Please consider reporting this to the maintainers of org.apache.spark.unsafe.Platform\n",
      "WARNING: Use --illegal-access=warn to enable warnings of further illegal reflective access operations\n",
      "WARNING: All illegal access operations will be denied in a future release\n"
     ]
    },
    {
     "name": "stdout",
     "output_type": "stream",
     "text": [
      ":: loading settings :: url = jar:file:/opt/spark3/jars/ivy-2.5.0.jar!/org/apache/ivy/core/settings/ivysettings.xml\n"
     ]
    },
    {
     "name": "stderr",
     "output_type": "stream",
     "text": [
      "Ivy Default Cache set to: /home/osbdet/.ivy2/cache\n",
      "The jars for the packages stored in: /home/osbdet/.ivy2/jars\n",
      "org.apache.spark#spark-sql-kafka-0-10_2.12 added as a dependency\n",
      ":: resolving dependencies :: org.apache.spark#spark-submit-parent-a6ea0508-bff7-4c7e-80fe-d9bdbe8f25f5;1.0\n",
      "\tconfs: [default]\n",
      "\tfound org.apache.spark#spark-sql-kafka-0-10_2.12;3.2.3 in central\n",
      "\tfound org.apache.spark#spark-token-provider-kafka-0-10_2.12;3.2.3 in central\n",
      "\tfound org.apache.kafka#kafka-clients;2.8.1 in central\n",
      "\tfound org.lz4#lz4-java;1.7.1 in central\n",
      "\tfound org.xerial.snappy#snappy-java;1.1.8.4 in central\n",
      "\tfound org.slf4j#slf4j-api;1.7.30 in central\n",
      "\tfound org.apache.hadoop#hadoop-client-runtime;3.3.1 in central\n",
      "\tfound org.spark-project.spark#unused;1.0.0 in central\n",
      "\tfound org.apache.hadoop#hadoop-client-api;3.3.1 in central\n",
      "\tfound org.apache.htrace#htrace-core4;4.1.0-incubating in central\n",
      "\tfound commons-logging#commons-logging;1.1.3 in central\n",
      "\tfound com.google.code.findbugs#jsr305;3.0.0 in central\n",
      "\tfound org.apache.commons#commons-pool2;2.6.2 in central\n",
      ":: resolution report :: resolve 1592ms :: artifacts dl 38ms\n",
      "\t:: modules in use:\n",
      "\tcom.google.code.findbugs#jsr305;3.0.0 from central in [default]\n",
      "\tcommons-logging#commons-logging;1.1.3 from central in [default]\n",
      "\torg.apache.commons#commons-pool2;2.6.2 from central in [default]\n",
      "\torg.apache.hadoop#hadoop-client-api;3.3.1 from central in [default]\n",
      "\torg.apache.hadoop#hadoop-client-runtime;3.3.1 from central in [default]\n",
      "\torg.apache.htrace#htrace-core4;4.1.0-incubating from central in [default]\n",
      "\torg.apache.kafka#kafka-clients;2.8.1 from central in [default]\n",
      "\torg.apache.spark#spark-sql-kafka-0-10_2.12;3.2.3 from central in [default]\n",
      "\torg.apache.spark#spark-token-provider-kafka-0-10_2.12;3.2.3 from central in [default]\n",
      "\torg.lz4#lz4-java;1.7.1 from central in [default]\n",
      "\torg.slf4j#slf4j-api;1.7.30 from central in [default]\n",
      "\torg.spark-project.spark#unused;1.0.0 from central in [default]\n",
      "\torg.xerial.snappy#snappy-java;1.1.8.4 from central in [default]\n",
      "\t---------------------------------------------------------------------\n",
      "\t|                  |            modules            ||   artifacts   |\n",
      "\t|       conf       | number| search|dwnlded|evicted|| number|dwnlded|\n",
      "\t---------------------------------------------------------------------\n",
      "\t|      default     |   13  |   0   |   0   |   0   ||   13  |   0   |\n",
      "\t---------------------------------------------------------------------\n",
      ":: retrieving :: org.apache.spark#spark-submit-parent-a6ea0508-bff7-4c7e-80fe-d9bdbe8f25f5\n",
      "\tconfs: [default]\n",
      "\t0 artifacts copied, 13 already retrieved (0kB/24ms)\n",
      "Setting default log level to \"WARN\".\n",
      "To adjust logging level use sc.setLogLevel(newLevel). For SparkR, use setLogLevel(newLevel).\n"
     ]
    }
   ],
   "source": [
    "%%capture\n",
    "import findspark\n",
    "findspark.init()\n",
    "\n",
    "from pyspark.sql import SparkSession\n",
    "\n",
    "spark = SparkSession \\\n",
    "    .builder \\\n",
    "    .appName(\"Prueba Test\") \\\n",
    "    .config('spark.jars.packages', 'org.apache.spark:spark-sql-kafka-0-10_2.12:3.2.3')\\\n",
    "    .getOrCreate()\n"
   ]
  },
  {
   "cell_type": "code",
   "execution_count": 9,
   "id": "90198af4",
   "metadata": {},
   "outputs": [],
   "source": [
    "df = spark \\\n",
    "    .readStream \\\n",
    "    .format(\"kafka\") \\\n",
    "    .option(\"kafka.bootstrap.servers\", \"localhost:9092,localhost:9092\") \\\n",
    "    .option(\"subscribe\", \"test\") \\\n",
    "    .option(\"startingOffsets\", \"earliest\") \\\n",
    "    .load()"
   ]
  },
  {
   "cell_type": "code",
   "execution_count": 12,
   "id": "856228b5",
   "metadata": {},
   "outputs": [
    {
     "name": "stderr",
     "output_type": "stream",
     "text": [
      "                                                                                \r"
     ]
    },
    {
     "name": "stdout",
     "output_type": "stream",
     "text": [
      "-------------------------------------------\n",
      "Batch: 0\n",
      "-------------------------------------------\n",
      "+--------------------------------------------------------------------------------------------------------------------------------------------------------------------------------------------------------------------------------------------------------+\n",
      "|value                                                                                                                                                                                                                                                   |\n",
      "+--------------------------------------------------------------------------------------------------------------------------------------------------------------------------------------------------------------------------------------------------------+\n",
      "|2023-08-19 14:02:05.435;truck_geo_event;61;28;Michael Aube;13;Springfield to KC Via Hanibal Route 2;Normal;39.77;-89.78;1;\\n2023-08-19 14:02:05.437;truck_speed_event;61;28;Michael Aube;13;Springfield to KC Via Hanibal Route 2;73;\\n                 |\n",
      "|2023-08-19 14:02:05.435;truck_geo_event;61;28;Michael Aube;13;Springfield to KC Via Hanibal Route 2;Normal;39.77;-89.78;1;\\n2023-08-19 14:02:05.48;truck_geo_event;45;13;Suresh Srinivas;3;Des Moines to Chicago;Overspeed;41.69;-93.36;1;\\n            |\n",
      "|2023-08-19 14:02:05.435;truck_geo_event;61;28;Michael Aube;13;Springfield to KC Via Hanibal Route 2;Normal;39.77;-89.78;1;\\n2023-08-19 14:02:05.48;truck_speed_event;45;13;Suresh Srinivas;3;Des Moines to Chicago;92;\\n                                |\n",
      "|2023-08-19 14:02:05.435;truck_geo_event;61;28;Michael Aube;13;Springfield to KC Via Hanibal Route 2;Normal;39.77;-89.78;1;\\n2023-08-19 14:02:05.681;truck_geo_event;101;15;Joe Niemiec;2;Memphis to Little Rock;Normal;35.21;-90.37;1;\\n                |\n",
      "|2023-08-19 14:02:05.435;truck_geo_event;61;28;Michael Aube;13;Springfield to KC Via Hanibal Route 2;Normal;39.77;-89.78;1;\\n2023-08-19 14:02:05.682;truck_speed_event;101;15;Joe Niemiec;2;Memphis to Little Rock;65;\\n                                 |\n",
      "|2023-08-19 14:02:05.435;truck_geo_event;61;28;Michael Aube;13;Springfield to KC Via Hanibal Route 2;Normal;39.77;-89.78;1;\\n2023-08-19 14:02:05.702;truck_geo_event;65;19;Eric Mizell;2;Wichita to Little Rock.kml;Normal;37.48;-97.32;1;\\n             |\n",
      "|2023-08-19 14:02:05.435;truck_geo_event;61;28;Michael Aube;13;Springfield to KC Via Hanibal Route 2;Normal;39.77;-89.78;1;\\n2023-08-19 14:02:05.705;truck_speed_event;65;19;Eric Mizell;2;Wichita to Little Rock.kml;55;\\n                              |\n",
      "|2023-08-19 14:02:05.435;truck_geo_event;61;28;Michael Aube;13;Springfield to KC Via Hanibal Route 2;Normal;39.77;-89.78;1;\\n2023-08-19 14:02:05.713;truck_geo_event;16;30;Olivier Renault;9;Des Moines to Chicago Route 2;Normal;41.69;-93.36;1;\\n      |\n",
      "|2023-08-19 14:02:05.435;truck_geo_event;61;28;Michael Aube;13;Springfield to KC Via Hanibal Route 2;Normal;39.77;-89.78;1;\\n2023-08-19 14:02:05.714;truck_speed_event;16;30;Olivier Renault;9;Des Moines to Chicago Route 2;56;\\n                       |\n",
      "|2023-08-19 14:02:05.435;truck_geo_event;61;28;Michael Aube;13;Springfield to KC Via Hanibal Route 2;Normal;39.77;-89.78;1;\\n2023-08-19 14:02:05.72;truck_geo_event;17;25;Adam Diaz;4;Saint Louis to Memphis Route2;Normal;38.43;-90.35;1;\\n             |\n",
      "|2023-08-19 14:02:05.435;truck_geo_event;61;28;Michael Aube;13;Springfield to KC Via Hanibal Route 2;Normal;39.77;-89.78;1;\\n2023-08-19 14:02:05.721;truck_speed_event;17;25;Adam Diaz;4;Saint Louis to Memphis Route2;71;\\n                             |\n",
      "|2023-08-19 14:02:05.435;truck_geo_event;61;28;Michael Aube;13;Springfield to KC Via Hanibal Route 2;Normal;39.77;-89.78;1;\\n2023-08-19 14:06:05.71;truck_geo_event;58;10;George Vetticaden;11;Saint Louis to Tulsa;Normal;38.64;-90.18;1;\\n             |\n",
      "|2023-08-19 14:02:05.435;truck_geo_event;61;28;Michael Aube;13;Springfield to KC Via Hanibal Route 2;Normal;39.77;-89.78;1;\\n2023-08-19 14:06:05.763;truck_speed_event;58;10;George Vetticaden;11;Saint Louis to Tulsa;60;\\n                             |\n",
      "|2023-08-19 14:02:05.435;truck_geo_event;61;28;Michael Aube;13;Springfield to KC Via Hanibal Route 2;Normal;39.77;-89.78;1;\\n2023-08-19 14:06:05.763;truck_geo_event;86;12;Joe Witt;13;Saint Louis to Memphis;Lane Departure;38.62;-90.15;1;\\n           |\n",
      "|2023-08-19 14:02:05.435;truck_geo_event;61;28;Michael Aube;13;Springfield to KC Via Hanibal Route 2;Normal;39.77;-89.78;1;\\n2023-08-19 14:06:05.765;truck_speed_event;86;12;Joe Witt;13;Saint Louis to Memphis;100;\\n                                   |\n",
      "|2023-08-19 14:02:05.435;truck_geo_event;61;28;Michael Aube;13;Springfield to KC Via Hanibal Route 2;Normal;39.77;-89.78;1;\\n2023-08-19 14:06:05.766;truck_geo_event;99;13;Suresh Srinivas;8;Des Moines to Chicago;Unsafe tail distance;41.62;-93.58;1;\\n|\n",
      "|2023-08-19 14:02:05.435;truck_geo_event;61;28;Michael Aube;13;Springfield to KC Via Hanibal Route 2;Normal;39.77;-89.78;1;\\n2023-08-19 14:06:05.767;truck_speed_event;99;13;Suresh Srinivas;8;Des Moines to Chicago;99;\\n                               |\n",
      "|2023-08-19 14:02:05.435;truck_geo_event;61;28;Michael Aube;13;Springfield to KC Via Hanibal Route 2;Normal;39.77;-89.78;1;\\n2023-08-19 14:06:05.768;truck_geo_event;80;14;Paul Codding;1;Joplin to Kansas City;Normal;37.03;-94.58;1;\\n                 |\n",
      "|2023-08-19 14:02:05.435;truck_geo_event;61;28;Michael Aube;13;Springfield to KC Via Hanibal Route 2;Normal;39.77;-89.78;1;\\n2023-08-19 14:06:05.769;truck_speed_event;80;14;Paul Codding;1;Joplin to Kansas City;74;\\n                                  |\n",
      "|2023-08-19 14:02:05.435;truck_geo_event;61;28;Michael Aube;13;Springfield to KC Via Hanibal Route 2;Normal;39.77;-89.78;1;\\n2023-08-19 14:06:05.77;truck_geo_event;12;11;Jamie Engesser;9;Saint Louis to Chicago;Normal;38.65;-90.2;1;\\n                |\n",
      "+--------------------------------------------------------------------------------------------------------------------------------------------------------------------------------------------------------------------------------------------------------+\n",
      "only showing top 20 rows\n",
      "\n"
     ]
    }
   ],
   "source": [
    "from pyspark.sql import functions as F\n",
    "query = df.selectExpr(\"CAST(value AS STRING)\") \\\n",
    "        .filter(F.length(F.col('value'))>100) \\\n",
    "        .writeStream \\\n",
    "        .format('console') \\\n",
    "        .option(\"truncate\", \"false\") \\\n",
    "        .start()\n",
    "\n",
    "query.awaitTermination(20)\n",
    "\n",
    "query.stop()"
   ]
  },
  {
   "cell_type": "code",
   "execution_count": null,
   "id": "9aed2309",
   "metadata": {},
   "outputs": [],
   "source": []
  }
 ],
 "metadata": {
  "kernelspec": {
   "display_name": "Python 3 (ipykernel)",
   "language": "python",
   "name": "python3"
  },
  "language_info": {
   "codemirror_mode": {
    "name": "ipython",
    "version": 3
   },
   "file_extension": ".py",
   "mimetype": "text/x-python",
   "name": "python",
   "nbconvert_exporter": "python",
   "pygments_lexer": "ipython3",
   "version": "3.9.2"
  }
 },
 "nbformat": 4,
 "nbformat_minor": 5
}
