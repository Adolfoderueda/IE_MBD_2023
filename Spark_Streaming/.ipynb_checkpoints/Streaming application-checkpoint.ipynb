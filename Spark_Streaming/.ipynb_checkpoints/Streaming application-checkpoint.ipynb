{
 "cells": [
  {
   "cell_type": "code",
   "execution_count": null,
   "metadata": {},
   "outputs": [],
   "source": [
    "import findspark\n",
    "findspark.init()\n",
    "\n",
    "from pyspark.context import SparkContext\n",
    "from pyspark.sql.session import SparkSession\n",
    "from pyspark.sql.functions import split, col\n",
    "from pyspark.sql.types import TimestampType\n",
    "\n",
    "sc = SparkContext.getOrCreate()\n",
    "spark = SparkSession(sc)\n",
    "\n",
    "geoEventProcessing = spark.readStream\\\n",
    "                          .format(\"socket\")\\\n",
    "                          .option(\"host\", \"localhost\")\\\n",
    "                          .option(\"port\", 9999)\\\n",
    "                          .load()\\\n",
    "                          .select(split(\"value\",'\\|').alias(\"fields\"))\\\n",
    "                          .withColumn(\"timestamp_str\",col(\"fields\").getItem(0))\\\n",
    "                          .withColumn(\"timestamp\",col(\"timestamp_str\").cast(TimestampType()))\\\n",
    "                          .withColumn(\"driverName\",col(\"fields\").getItem(4))\\\n",
    "                          .withColumn(\"violation\", col(\"fields\").getItem(7))\\\n",
    "                          .where(\"violation!='Normal'\")\\\n",
    "                          .groupBy(\"driverName\", \"violation\")\\\n",
    "                          .count()\\\n",
    "                          .orderBy(col(\"count\").desc())\\\n",
    "                          .limit(5)\\\n",
    "                          .writeStream\\\n",
    "                          .format(\"console\")\\\n",
    "                          .outputMode(\"complete\")\\\n",
    "                          .trigger(processingTime='10 seconds')\\\n",
    "                          .start()\\\n",
    "                          .awaitTermination()"
   ]
  },
  {
   "cell_type": "code",
   "execution_count": null,
   "metadata": {},
   "outputs": [],
   "source": []
  }
 ],
 "metadata": {
  "kernelspec": {
   "display_name": "Python 3",
   "language": "python",
   "name": "python3"
  },
  "language_info": {
   "codemirror_mode": {
    "name": "ipython",
    "version": 3
   },
   "file_extension": ".py",
   "mimetype": "text/x-python",
   "name": "python",
   "nbconvert_exporter": "python",
   "pygments_lexer": "ipython3",
   "version": "3.7.3"
  }
 },
 "nbformat": 4,
 "nbformat_minor": 2
}
